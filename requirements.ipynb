{
 "cells": [
  {
   "cell_type": "code",
   "execution_count": 1,
   "id": "d1bb7110",
   "metadata": {
    "scrolled": false
   },
   "outputs": [
    {
     "name": "stdout",
     "output_type": "stream",
     "text": [
      "Requirement already satisfied: flask in c:\\users\\sanjay.bhat\\anaconda3\\lib\\site-packages (from -r requirements.txt (line 1)) (1.1.2)\n",
      "Requirement already satisfied: requests in c:\\users\\sanjay.bhat\\anaconda3\\lib\\site-packages (from -r requirements.txt (line 2)) (2.26.0)\n",
      "Requirement already satisfied: black in c:\\users\\sanjay.bhat\\anaconda3\\lib\\site-packages (from -r requirements.txt (line 3)) (19.10b0)\n",
      "Requirement already satisfied: matplotlib>=3.2.2 in c:\\users\\sanjay.bhat\\anaconda3\\lib\\site-packages (from -r requirements.txt (line 5)) (3.4.3)\n",
      "Requirement already satisfied: numpy>=1.18.5 in c:\\users\\sanjay.bhat\\anaconda3\\lib\\site-packages (from -r requirements.txt (line 6)) (1.20.3)\n",
      "Collecting opencv-python>=4.1.2\n",
      "  Using cached opencv_python-4.5.5.64-cp36-abi3-win_amd64.whl (35.4 MB)\n",
      "Requirement already satisfied: Pillow in c:\\users\\sanjay.bhat\\anaconda3\\lib\\site-packages (from -r requirements.txt (line 8)) (8.4.0)\n",
      "Requirement already satisfied: PyYAML>=5.3.1 in c:\\users\\sanjay.bhat\\anaconda3\\lib\\site-packages (from -r requirements.txt (line 9)) (6.0)\n",
      "Requirement already satisfied: scipy>=1.4.1 in c:\\users\\sanjay.bhat\\anaconda3\\lib\\site-packages (from -r requirements.txt (line 10)) (1.7.1)\n",
      "Collecting torch>=1.7.0\n",
      "  Using cached torch-1.11.0-cp39-cp39-win_amd64.whl (157.9 MB)\n",
      "Collecting torchvision>=0.8.1\n",
      "  Using cached torchvision-0.12.0-cp39-cp39-win_amd64.whl (1.0 MB)\n",
      "Requirement already satisfied: tqdm>=4.41.0 in c:\\users\\sanjay.bhat\\anaconda3\\lib\\site-packages (from -r requirements.txt (line 13)) (4.62.3)\n",
      "Collecting tensorboard>=2.4.1\n",
      "  Using cached tensorboard-2.8.0-py3-none-any.whl (5.8 MB)\n",
      "Requirement already satisfied: seaborn>=0.11.0 in c:\\users\\sanjay.bhat\\anaconda3\\lib\\site-packages (from -r requirements.txt (line 17)) (0.11.2)\n",
      "Requirement already satisfied: pandas in c:\\users\\sanjay.bhat\\anaconda3\\lib\\site-packages (from -r requirements.txt (line 18)) (1.3.4)\n",
      "Collecting thop\n",
      "  Using cached thop-0.0.31.post2005241907-py3-none-any.whl (8.7 kB)\n",
      "Requirement already satisfied: click>=5.1 in c:\\users\\sanjay.bhat\\anaconda3\\lib\\site-packages (from flask->-r requirements.txt (line 1)) (8.0.3)\n",
      "Requirement already satisfied: Jinja2>=2.10.1 in c:\\users\\sanjay.bhat\\anaconda3\\lib\\site-packages (from flask->-r requirements.txt (line 1)) (2.11.3)\n",
      "Requirement already satisfied: Werkzeug>=0.15 in c:\\users\\sanjay.bhat\\anaconda3\\lib\\site-packages (from flask->-r requirements.txt (line 1)) (2.0.2)\n",
      "Requirement already satisfied: itsdangerous>=0.24 in c:\\users\\sanjay.bhat\\anaconda3\\lib\\site-packages (from flask->-r requirements.txt (line 1)) (2.0.1)\n",
      "Requirement already satisfied: certifi>=2017.4.17 in c:\\users\\sanjay.bhat\\anaconda3\\lib\\site-packages (from requests->-r requirements.txt (line 2)) (2021.10.8)\n",
      "Requirement already satisfied: idna<4,>=2.5 in c:\\users\\sanjay.bhat\\anaconda3\\lib\\site-packages (from requests->-r requirements.txt (line 2)) (3.2)\n",
      "Requirement already satisfied: urllib3<1.27,>=1.21.1 in c:\\users\\sanjay.bhat\\anaconda3\\lib\\site-packages (from requests->-r requirements.txt (line 2)) (1.26.7)\n",
      "Requirement already satisfied: charset-normalizer~=2.0.0 in c:\\users\\sanjay.bhat\\anaconda3\\lib\\site-packages (from requests->-r requirements.txt (line 2)) (2.0.4)\n",
      "Requirement already satisfied: regex in c:\\users\\sanjay.bhat\\anaconda3\\lib\\site-packages (from black->-r requirements.txt (line 3)) (2021.8.3)\n",
      "Requirement already satisfied: attrs>=18.1.0 in c:\\users\\sanjay.bhat\\anaconda3\\lib\\site-packages (from black->-r requirements.txt (line 3)) (21.2.0)\n",
      "Requirement already satisfied: typed-ast>=1.4.0 in c:\\users\\sanjay.bhat\\anaconda3\\lib\\site-packages (from black->-r requirements.txt (line 3)) (1.4.3)\n",
      "Requirement already satisfied: toml>=0.9.4 in c:\\users\\sanjay.bhat\\anaconda3\\lib\\site-packages (from black->-r requirements.txt (line 3)) (0.10.2)\n",
      "Requirement already satisfied: pathspec<1,>=0.6 in c:\\users\\sanjay.bhat\\anaconda3\\lib\\site-packages (from black->-r requirements.txt (line 3)) (0.7.0)\n",
      "Requirement already satisfied: appdirs in c:\\users\\sanjay.bhat\\anaconda3\\lib\\site-packages (from black->-r requirements.txt (line 3)) (1.4.4)\n",
      "Requirement already satisfied: python-dateutil>=2.7 in c:\\users\\sanjay.bhat\\anaconda3\\lib\\site-packages (from matplotlib>=3.2.2->-r requirements.txt (line 5)) (2.8.2)\n",
      "Requirement already satisfied: cycler>=0.10 in c:\\users\\sanjay.bhat\\anaconda3\\lib\\site-packages (from matplotlib>=3.2.2->-r requirements.txt (line 5)) (0.10.0)\n",
      "Requirement already satisfied: kiwisolver>=1.0.1 in c:\\users\\sanjay.bhat\\anaconda3\\lib\\site-packages (from matplotlib>=3.2.2->-r requirements.txt (line 5)) (1.3.1)\n",
      "Requirement already satisfied: pyparsing>=2.2.1 in c:\\users\\sanjay.bhat\\anaconda3\\lib\\site-packages (from matplotlib>=3.2.2->-r requirements.txt (line 5)) (3.0.4)\n",
      "Requirement already satisfied: typing-extensions in c:\\users\\sanjay.bhat\\anaconda3\\lib\\site-packages (from torch>=1.7.0->-r requirements.txt (line 11)) (3.10.0.2)\n",
      "Requirement already satisfied: colorama in c:\\users\\sanjay.bhat\\anaconda3\\lib\\site-packages (from tqdm>=4.41.0->-r requirements.txt (line 13)) (0.4.4)\n",
      "Collecting google-auth<3,>=1.6.3\n",
      "  Downloading google_auth-2.6.2-py2.py3-none-any.whl (156 kB)\n",
      "Collecting protobuf>=3.6.0\n",
      "  Using cached protobuf-3.19.4-cp39-cp39-win_amd64.whl (895 kB)\n",
      "Collecting tensorboard-data-server<0.7.0,>=0.6.0\n",
      "  Using cached tensorboard_data_server-0.6.1-py3-none-any.whl (2.4 kB)\n",
      "Requirement already satisfied: wheel>=0.26 in c:\\users\\sanjay.bhat\\anaconda3\\lib\\site-packages (from tensorboard>=2.4.1->-r requirements.txt (line 15)) (0.37.0)\n",
      "Collecting markdown>=2.6.8\n",
      "  Using cached Markdown-3.3.6-py3-none-any.whl (97 kB)\n",
      "Collecting tensorboard-plugin-wit>=1.6.0\n",
      "  Using cached tensorboard_plugin_wit-1.8.1-py3-none-any.whl (781 kB)\n",
      "Collecting absl-py>=0.4\n",
      "  Using cached absl_py-1.0.0-py3-none-any.whl (126 kB)\n",
      "Collecting google-auth-oauthlib<0.5,>=0.4.1\n",
      "  Using cached google_auth_oauthlib-0.4.6-py2.py3-none-any.whl (18 kB)\n",
      "Collecting grpcio>=1.24.3\n",
      "  Using cached grpcio-1.44.0-cp39-cp39-win_amd64.whl (3.4 MB)\n",
      "Requirement already satisfied: setuptools>=41.0.0 in c:\\users\\sanjay.bhat\\anaconda3\\lib\\site-packages (from tensorboard>=2.4.1->-r requirements.txt (line 15)) (58.0.4)\n",
      "Requirement already satisfied: pytz>=2017.3 in c:\\users\\sanjay.bhat\\anaconda3\\lib\\site-packages (from pandas->-r requirements.txt (line 18)) (2021.3)\n",
      "Requirement already satisfied: six in c:\\users\\sanjay.bhat\\anaconda3\\lib\\site-packages (from absl-py>=0.4->tensorboard>=2.4.1->-r requirements.txt (line 15)) (1.16.0)\n",
      "Collecting rsa<5,>=3.1.4\n",
      "  Using cached rsa-4.8-py3-none-any.whl (39 kB)\n",
      "Collecting pyasn1-modules>=0.2.1\n",
      "  Using cached pyasn1_modules-0.2.8-py2.py3-none-any.whl (155 kB)\n",
      "Collecting cachetools<6.0,>=2.0.0\n",
      "  Using cached cachetools-5.0.0-py3-none-any.whl (9.1 kB)\n",
      "Collecting requests-oauthlib>=0.7.0\n",
      "  Using cached requests_oauthlib-1.3.1-py2.py3-none-any.whl (23 kB)\n",
      "Requirement already satisfied: MarkupSafe>=0.23 in c:\\users\\sanjay.bhat\\anaconda3\\lib\\site-packages (from Jinja2>=2.10.1->flask->-r requirements.txt (line 1)) (1.1.1)\n",
      "Requirement already satisfied: importlib-metadata>=4.4 in c:\\users\\sanjay.bhat\\anaconda3\\lib\\site-packages (from markdown>=2.6.8->tensorboard>=2.4.1->-r requirements.txt (line 15)) (4.8.1)\n",
      "Requirement already satisfied: zipp>=0.5 in c:\\users\\sanjay.bhat\\anaconda3\\lib\\site-packages (from importlib-metadata>=4.4->markdown>=2.6.8->tensorboard>=2.4.1->-r requirements.txt (line 15)) (3.6.0)\n",
      "Collecting pyasn1<0.5.0,>=0.4.6\n",
      "  Using cached pyasn1-0.4.8-py2.py3-none-any.whl (77 kB)\n",
      "Collecting oauthlib>=3.0.0\n",
      "  Using cached oauthlib-3.2.0-py3-none-any.whl (151 kB)\n",
      "Installing collected packages: pyasn1, rsa, pyasn1-modules, oauthlib, cachetools, requests-oauthlib, google-auth, torch, tensorboard-plugin-wit, tensorboard-data-server, protobuf, markdown, grpcio, google-auth-oauthlib, absl-py, torchvision, thop, tensorboard, opencv-python\n",
      "Successfully installed absl-py-1.0.0 cachetools-5.0.0 google-auth-2.6.2 google-auth-oauthlib-0.4.6 grpcio-1.44.0 markdown-3.3.6 oauthlib-3.2.0 opencv-python-4.5.5.64 protobuf-3.19.4 pyasn1-0.4.8 pyasn1-modules-0.2.8 requests-oauthlib-1.3.1 rsa-4.8 tensorboard-2.8.0 tensorboard-data-server-0.6.1 tensorboard-plugin-wit-1.8.1 thop-0.0.31.post2005241907 torch-1.11.0 torchvision-0.12.0\n"
     ]
    }
   ],
   "source": [
    "!pip install -r requirements.txt"
   ]
  },
  {
   "cell_type": "code",
   "execution_count": null,
   "id": "d391c347",
   "metadata": {},
   "outputs": [],
   "source": []
  }
 ],
 "metadata": {
  "kernelspec": {
   "display_name": "Python 3 (ipykernel)",
   "language": "python",
   "name": "python3"
  },
  "language_info": {
   "codemirror_mode": {
    "name": "ipython",
    "version": 3
   },
   "file_extension": ".py",
   "mimetype": "text/x-python",
   "name": "python",
   "nbconvert_exporter": "python",
   "pygments_lexer": "ipython3",
   "version": "3.9.7"
  }
 },
 "nbformat": 4,
 "nbformat_minor": 5
}
